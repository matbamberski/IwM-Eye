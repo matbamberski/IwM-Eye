{
 "cells": [
  {
   "cell_type": "code",
   "execution_count": 1,
   "metadata": {},
   "outputs": [],
   "source": [
    "from pylab import *\n",
    "from matplotlib.pyplot import imshow\n",
    "import numpy as np\n",
    "import cv2\n",
    "import warnings\n",
    "import os\n",
    "\n",
    "warnings.simplefilter(\"ignore\")"
   ]
  },
  {
   "cell_type": "code",
   "execution_count": 3,
   "metadata": {},
   "outputs": [],
   "source": [
    "def readNames(path):\n",
    "    fileList = os.listdir(path)\n",
    "    return fileList\n",
    "\n",
    "def readFile(path,filename):\n",
    "    base = cv2.imread(os.getcwd() + '/' + path + filename)\n",
    "    base = cv2.cvtColor(base, cv2.COLOR_RGB2BGR)\n",
    "    return base"
   ]
  },
  {
   "cell_type": "code",
   "execution_count": 5,
   "metadata": {},
   "outputs": [],
   "source": [
    "def divide(image, size = 5):\n",
    "    dividedImages = []\n",
    "    \n",
    "    for i in range (0, len(image), size):\n",
    "        for j in range (0, len(image[i]), size):\n",
    "            dividedImage = image[i:i+size,j:j+size]\n",
    "            dividedImages.append(dividedImage)\n",
    "    \n",
    "    return dividedImages"
   ]
  },
  {
   "cell_type": "code",
   "execution_count": null,
   "metadata": {},
   "outputs": [],
   "source": []
  }
 ],
 "metadata": {
  "kernelspec": {
   "display_name": "Python 3",
   "language": "python",
   "name": "python3"
  },
  "language_info": {
   "codemirror_mode": {
    "name": "ipython",
    "version": 3
   },
   "file_extension": ".py",
   "mimetype": "text/x-python",
   "name": "python",
   "nbconvert_exporter": "python",
   "pygments_lexer": "ipython3",
   "version": "3.5.2"
  }
 },
 "nbformat": 4,
 "nbformat_minor": 2
}
